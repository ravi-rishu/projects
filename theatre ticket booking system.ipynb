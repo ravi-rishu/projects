{
 "cells": [
  {
   "cell_type": "code",
   "execution_count": null,
   "id": "281a744b-bab4-4e9c-bd46-4d3da3c6e2c9",
   "metadata": {},
   "outputs": [
    {
     "name": "stdout",
     "output_type": "stream",
     "text": [
      "--------------------------------------------------\n",
      "Welcome to Ashok Inox Theatre Booking System\n",
      "--------------------------------------------------\n"
     ]
    },
    {
     "name": "stdin",
     "output_type": "stream",
     "text": [
      "enter customer name:  ayushi\n",
      "enter customer mobile number:  34567\n"
     ]
    },
    {
     "name": "stdout",
     "output_type": "stream",
     "text": [
      "seat types: \n",
      "press 1 for silver seats (price - 150/-)\n",
      "        press 2 for gold seats (price - 190/-)\n",
      "        press 3 for platinum seats (price - 250/-)\n"
     ]
    },
    {
     "name": "stdin",
     "output_type": "stream",
     "text": [
      "enter your choice between 1/2/3/:  1\n",
      "enter number of seats:  5\n",
      "Would you like to add a combo (popcorn and drink) for 50/- per seat? (yes/no):  yes\n"
     ]
    },
    {
     "name": "stdout",
     "output_type": "stream",
     "text": [
      "----------------------------------------\n",
      "bill details\n",
      "----------------------------------------\n",
      "customer's name:  ayushi\n",
      "customer's mobile number:  34567\n",
      "Seat Type: silver\n",
      "number of seats booked:  5\n",
      "total cost:  1000\n",
      "----------------------------------------\n",
      "Thanks You and Visit Again\n",
      "----------------------------------------\n"
     ]
    }
   ],
   "source": [
    "##### Create Theatre ticket booking system\n",
    "# number of seats limited\n",
    "# normal / recliner / other types of seats\n",
    "# set prices accordingly\n",
    "# add combos \n",
    "# display bill\n",
    "# go to next person\n",
    "\n",
    "total_seats = 150\n",
    "silver_seats = 40\n",
    "gold_seats = 50\n",
    "platinum_seats = 60\n",
    "total = 0\n",
    "\n",
    "silver_seats_price = 150\n",
    "gold_seats_price = 190\n",
    "platinum_seats_price = 250\n",
    "total = 0\n",
    "\n",
    "combo_price = 50\n",
    "\n",
    "\n",
    "while True:\n",
    "    print(\"-\"*50)\n",
    "    print(\"Welcome to Ashok Inox Theatre Booking System\")\n",
    "    print(\"-\"*50)\n",
    "    \n",
    "    name = input(\"enter customer name: \")\n",
    "    mobile_number = int(input(\"enter customer mobile number: \"))\n",
    "\n",
    "    while True:\n",
    "        print(\"seat types: \")                    \n",
    "        print(\"\"\"press 1 for silver seats (price - 150/-)\n",
    "        press 2 for gold seats (price - 190/-)\n",
    "        press 3 for platinum seats (price - 250/-)\"\"\")\n",
    "        \n",
    "        choice = int(input(\"enter your choice between 1/2/3/: \"))\n",
    "        seats = int(input(\"enter number of seats: \"))\n",
    "        \n",
    "        if choice == 1 and seats > silver_seats:\n",
    "            print(\"Housefull in silver Seats category. Would you like to book in another category? (yes/no)\")\n",
    "            ta = input(\"Would you like to book in another category? (yes/no)\")\n",
    "            if ta == \"no\":\n",
    "                break\n",
    "        else:\n",
    "            seat_type= \"silver\"\n",
    "            total = seats*silver_seats_price\n",
    "            silver_seats -= seats\n",
    "            break\n",
    "            \n",
    "                 \n",
    "        if choice == 2 and seats > gold_seats:\n",
    "            print(\"Housefull in gold Seats category. Would you like to book in another category? (yes/no\")\n",
    "            ta = input(\"Would you like to book in another category? (yes/no)\")\n",
    "            if ta == \"no\":\n",
    "                break\n",
    "        else:\n",
    "            seat_type= \"gold\"\n",
    "            total = seats*gold_seats_price\n",
    "            gold_seats -= seats\n",
    "            break\n",
    "            \n",
    "        if choice == 3 and seats > platinum_seats:\n",
    "            print(\"Housefull in platinum Seats category. Would you like to book in another category? yes/no\")\n",
    "            ta = input(\"Would you like to book in another category? (yes/no)\")\n",
    "            if ta == \"no\":\n",
    "                break\n",
    "        else:\n",
    "            seat_type= \"platinium\"\n",
    "            total = seats*platinum_seats_price\n",
    "            platinum_seats -= seats\n",
    "            break\n",
    "            \n",
    "            \n",
    "    combo_choice = input(\"Would you like to add a combo (popcorn and drink) for 50/- per seat? (yes/no): \")\n",
    "    if combo_choice == \"yes\":\n",
    "        combo_cost = combo_price * seats\n",
    "    else:\n",
    "        combo_cost = 0\n",
    "\n",
    "    \n",
    "    total_cost = total + combo_cost\n",
    "            \n",
    "\n",
    "\n",
    "    print(\"-\"*40)\n",
    "    print(\"bill details\")\n",
    "    print(\"-\"*40)\n",
    "    print(\"customer's name: \", name)\n",
    "    print(\"customer's mobile number: \", mobile_number)\n",
    "    print(\"Seat Type:\", seat_type)\n",
    "    print(\"number of seats booked: \", seats)\n",
    "    print(\"total cost: \", total_cost)\n",
    "    print(\"-\"*40)\n",
    "    print(\"Thanks You and Visit Again\")\n",
    "    print(\"-\"*40)\n",
    "\n",
    "    next_person = input(\"next person? (yes/no) \")\n",
    "    if next_person == \"no\":\n",
    "        break\n",
    "\n"
   ]
  },
  {
   "cell_type": "code",
   "execution_count": null,
   "id": "42da9453-db25-420c-9969-2f1a1a1596dc",
   "metadata": {},
   "outputs": [],
   "source": []
  }
 ],
 "metadata": {
  "kernelspec": {
   "display_name": "Python 3 (ipykernel)",
   "language": "python",
   "name": "python3"
  },
  "language_info": {
   "codemirror_mode": {
    "name": "ipython",
    "version": 3
   },
   "file_extension": ".py",
   "mimetype": "text/x-python",
   "name": "python",
   "nbconvert_exporter": "python",
   "pygments_lexer": "ipython3",
   "version": "3.11.5"
  }
 },
 "nbformat": 4,
 "nbformat_minor": 5
}
